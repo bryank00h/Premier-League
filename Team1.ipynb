{
  "cells": [
    {
      "cell_type": "markdown",
      "metadata": {
        "id": "c3OSJd45wyxh"
      },
      "source": [
        "# **Importing Libraries for our Code**"
      ]
    },
    {
      "cell_type": "code",
      "execution_count": null,
      "metadata": {
        "id": "u4S8dy9IGwXy"
      },
      "outputs": [],
      "source": [
        "import numpy as np\n",
        "import pandas as pd\n",
        "import seaborn as sb\n",
        "import matplotlib.pyplot as mplt # we only need pyplot\n",
        "from sklearn.linear_model import LogisticRegression\n",
        "from sklearn.metrics import classification_report,accuracy_score,confusion_matrix\n",
        "from sklearn.model_selection import train_test_split\n",
        "from sklearn.tree import DecisionTreeClassifier\n",
        "from sklearn.tree import plot_tree\n",
        "from pylab import plt\n",
        "import math"
      ]
    },
    {
      "cell_type": "markdown",
      "metadata": {
        "id": "aaW_rLuQxk_U"
      },
      "source": [
        "# **Importing Dataset**"
      ]
    },
    {
      "cell_type": "code",
      "execution_count": null,
      "metadata": {
        "id": "XHHXATgL1X-3"
      },
      "outputs": [],
      "source": [
        "pl_results = pd.read_csv(\"results.csv\")\n",
        "pl_results.head()"
      ]
    },
    {
      "cell_type": "code",
      "execution_count": null,
      "metadata": {
        "id": "qApP8uiZ4ByC"
      },
      "outputs": [],
      "source": [
        "pl_results2018 = pl_results.loc[pl_results['season'] == \"2017-2018\"]\n",
        "pl_results2018.head()"
      ]
    },
    {
      "cell_type": "code",
      "execution_count": null,
      "metadata": {
        "id": "fw-nA6Se2pn8"
      },
      "outputs": [],
      "source": [
        "pl_results2018[list(pl_results2018.columns)].info()"
      ]
    },
    {
      "cell_type": "code",
      "execution_count": null,
      "metadata": {
        "id": "1SEIT5wX21ae"
      },
      "outputs": [],
      "source": [
        "pl_stats = pd.read_csv(\"stats.csv\")\n",
        "pl_stats.head()"
      ]
    },
    {
      "cell_type": "code",
      "execution_count": null,
      "metadata": {
        "id": "oyl9eQNO5boC"
      },
      "outputs": [],
      "source": [
        "pl_stats2018 = pl_stats.loc[pl_stats['season'] == \"2017-2018\"]\n",
        "pl_stats2018.head()"
      ]
    },
    {
      "cell_type": "code",
      "execution_count": null,
      "metadata": {
        "id": "rBfk0PjK28-B"
      },
      "outputs": [],
      "source": [
        "pl_stats2018[list(pl_stats2018.columns)].info()"
      ]
    },
    {
      "cell_type": "markdown",
      "metadata": {
        "id": "yFgpfhzRYzey"
      },
      "source": [
        "# **Exploratory Data analysis**"
      ]
    },
    {
      "cell_type": "markdown",
      "metadata": {
        "id": "rLqLnxB8bj2H"
      },
      "source": [
        "# 1. Pie chart of home goals and away goals"
      ]
    },
    {
      "cell_type": "code",
      "execution_count": null,
      "metadata": {
        "id": "zl0yTM8dZAEm"
      },
      "outputs": [],
      "source": [
        "home_goals_sum = pl_results2018['home_goals'].sum()\n",
        "print(home_goals_sum)"
      ]
    },
    {
      "cell_type": "code",
      "execution_count": null,
      "metadata": {
        "id": "VgkLFZj5bNzk"
      },
      "outputs": [],
      "source": [
        "away_goals_sum = pl_results2018['away_goals'].sum()\n",
        "print(away_goals_sum)"
      ]
    },
    {
      "cell_type": "code",
      "execution_count": null,
      "metadata": {
        "id": "E7fqNZnLbYPC"
      },
      "outputs": [],
      "source": [
        "# Creating labels\n",
        "venue_goals = ['Home', 'Away']\n",
        " \n",
        "data = [582, 436]\n",
        "\n",
        "# Creating autocpt arguments\n",
        "def func(pct, allvalues):\n",
        "    absolute = int(pct / 100.*np.sum(allvalues))\n",
        "    return \"{:.1f}%\\n({:d} goals)\".format(pct, absolute)\n",
        "\n",
        "# Creating plot\n",
        "fig, ax = plt.subplots(figsize =(10, 7))\n",
        "wedges, texts, autotexts = ax.pie(data,\n",
        "                                  autopct = lambda pct: func(pct, data),\n",
        "                                  labels = venue_goals,)\n",
        "\n",
        " \n",
        "# show plot\n",
        "plt.show()"
      ]
    },
    {
      "cell_type": "code",
      "source": [
        "fig,ax6 = plt.subplots(1,1)\n",
        "fig.set_size_inches(10,7)\n",
        "sb.boxplot(data= pl_results2018.select_dtypes(include=['float64']), ax=ax6,showmeans=True)\n",
        "ax6.set_title(\"Goal Distribution\")\n",
        "ax6.set_xticklabels(['Home Team',\"Away Team\"])\n",
        "ax6.set_ylabel('Avg Goal/Game')\n",
        "plt.show()"
      ],
      "metadata": {
        "id": "SJXrxRpm_VN2"
      },
      "execution_count": null,
      "outputs": []
    },
    {
      "cell_type": "code",
      "source": [
        "home_result = pl_results2018.loc[:,['home_team','result','season','home_goals']].groupby(['home_team','result','season']).count().\\\n",
        "sort_values(by=['home_team','season','home_goals']).reset_index()\n",
        "home_result.loc[:,'result'] = home_result.loc[:,'result'].apply(lambda x: 'W' if x == 'H' else ('L' if x == 'A' else 'D'))\n",
        "home_result.columns = home_result.columns[0:3].tolist() + ['NumOfGames']\n",
        "home_result.head()"
      ],
      "metadata": {
        "id": "1VOYIj23eAtk"
      },
      "execution_count": null,
      "outputs": []
    },
    {
      "cell_type": "code",
      "source": [
        "# create data\n",
        "home_results = pd.DataFrame([['AFC Bournemouth', 7, 7, 5], ['Arsenal', 15, 2, 2], ['Brighton and Hove Albion', 7, 4, 8], ['Burnley', 7, 7, 5], ['Chelsea', 11, 4, 4], ['Crystal Palace', 7, 7, 5], ['Everton', 10, 5, 4], ['Huddersfield Town', 6, 5, 8], ['Leicester City', 7, 6, 6], ['Liverpool', 12, 0, 7], ['Manchester City', 16, 2, 1], ['Manchester United', 15, 2, 2], ['Newcastle United', 8, 7, 4], ['Southampton', 4, 8, 7], ['Stoke City', 5, 9, 5], ['Swansea City', 6, 10,3], ['Tottenham Hotspur', 13, 2, 4],\n",
        "                     ['Watford', 7, 6, 6], ['West Bromwich Albion', 3, 7, 9], ['West Ham United', 7, 6, 6]]\n",
        "                  , columns=['Team', 'Wins', 'Losses', 'Draws'])\n",
        "# view data\n",
        "print(home_results)\n",
        " \n",
        "# plot data in stack manner of bar type\n",
        "home_results.plot(x='Team', kind='bar', stacked=True,\n",
        "        title='Team record at home in 2017-2018 season')\n",
        "plt.show()"
      ],
      "metadata": {
        "id": "ORayOeefPTkw"
      },
      "execution_count": null,
      "outputs": []
    },
    {
      "cell_type": "code",
      "source": [
        "away_result = pl_results2018.loc[:,['away_team','result','season','away_goals']].groupby(['away_team','result','season']).count().\\\n",
        "sort_values(by=['away_team','season','away_goals']).reset_index()\n",
        "away_result.loc[:,'result'] = away_result.loc[:,'result'].apply(lambda x: 'W' if x == 'A' else ('L' if x == 'H' else 'D'))\n",
        "away_result.columns = away_result.columns[0:3].tolist() + ['NumOfGames']\n",
        "away_result.head()"
      ],
      "metadata": {
        "id": "NtOLB2YePX20"
      },
      "execution_count": null,
      "outputs": []
    },
    {
      "cell_type": "code",
      "source": [
        "# create data\n",
        "away_results = pd.DataFrame([['AFC Bournemouth', 4, 9, 6], ['Arsenal', 4, 11, 4], ['Brighton and Hove Albion', 2, 12, 5], ['Burnley', 7, 5, 7], ['Chelsea', 10, 6, 3], ['Crystal Palace', 4, 9, 6], ['Everton', 3, 10, 6], ['Huddersfield Town', 3, 11, 5], ['Leicester City', 5, 9, 5], ['Liverpool', 9, 5, 5], ['Manchester City', 16, 1, 2], ['Manchester United', 10, 5, 4], ['Newcastle United', 4, 11, 4], ['Southampton', 3, 8, 8], ['Stoke City', 2, 10, 7], ['Swansea City', 2, 11,6], ['Tottenham Hotspur', 10, 5, 4],\n",
        "                     ['Watford', 4, 13, 2], ['West Bromwich Albion', 3, 12, 4], ['West Ham United', 3, 10, 6]]\n",
        "                  , columns=['Team', 'Wins', 'Losses', 'Draws'])\n",
        "# view data\n",
        "print(away_results)\n",
        " \n",
        "# plot data in stack manner of bar type\n",
        "away_results.plot(x='Team', kind='bar', stacked=True,\n",
        "        title='Team record away in 2017-2018 season')\n",
        "plt.show()"
      ],
      "metadata": {
        "id": "ZABf8sjyPtnb"
      },
      "execution_count": null,
      "outputs": []
    },
    {
      "cell_type": "markdown",
      "metadata": {
        "id": "aRsUY8lWCRH8"
      },
      "source": []
    },
    {
      "cell_type": "markdown",
      "metadata": {
        "id": "vzxlyllH51sW"
      },
      "source": [
        "# **Data Preparation and Cleaning**"
      ]
    },
    {
      "cell_type": "code",
      "execution_count": null,
      "metadata": {
        "id": "2dT6Q-bb9LoQ"
      },
      "outputs": [],
      "source": [
        "draws = 38-pl_stats2018['wins']-pl_stats2018['losses']\n",
        "print(draws)"
      ]
    },
    {
      "cell_type": "code",
      "execution_count": null,
      "metadata": {
        "id": "uLeFwA1F8Gfl"
      },
      "outputs": [],
      "source": [
        "# Creating new predictor variable\n",
        "pl_stats2018['win_pct'] = pl_stats2018['wins'] * 100/ (draws + pl_stats2018['losses'] + pl_stats2018['wins'])\n",
        "pl_stats2018[\"win_pct\"].fillna(value = 0, inplace = True)\n",
        "print (pl_stats2018[\"win_pct\"])"
      ]
    },
    {
      "cell_type": "code",
      "execution_count": null,
      "metadata": {
        "id": "vJCNBnsZGnqL"
      },
      "outputs": [],
      "source": [
        "print(pl_stats2018.corr())"
      ]
    },
    {
      "cell_type": "code",
      "source": [
        "f = plt.figure(figsize=(50, 50))\n",
        "sb.heatmap(pl_stats2018.corr(), vmin = -1, vmax = 1, linewidths = 1,\n",
        "           annot = True, fmt = \".2f\", annot_kws = {\"size\": 16}, cmap = \"RdBu\")"
      ],
      "metadata": {
        "id": "DsyQMN3XJjyH"
      },
      "execution_count": null,
      "outputs": []
    },
    {
      "cell_type": "markdown",
      "source": [
        "We checked the correlation of the 40 factors compared to the win percentage using the heatmap function. We decided that the factors with a correlation coefficient range between -0.6 and 0.6 are not as relevant as those with a range below -0.6 or above 0.6. Hence, we decided to include only relevant factors that have either a below -0.6 correlation or an above 0.6 correlation."
      ],
      "metadata": {
        "id": "EtV8ofl2Kqz-"
      }
    },
    {
      "cell_type": "code",
      "execution_count": null,
      "metadata": {
        "id": "A3jstdrx52lr"
      },
      "outputs": [],
      "source": [
        "columns_needed = [\"team\",\"wins\",\"losses\",\"goals\",\"total_scoring_att\",\"ontarget_scoring_att\",\"att_hd_goal\", \"hit_woodwork\", \n",
        "               \"att_ibox_goal\",\"att_obox_goal\",\"clean_sheet\",\"goals_conceded\",\"saves\",\n",
        "               \"outfielder_block\",\"total_clearance\",\"head_clearance\",\"total_pass\",\"total_through_ball\",\n",
        "               \"total_long_balls\",\"backward_pass\",\"corner_taken\",\"touches\",\"big_chance_missed\",\"win_pct\",\"season\"]\n",
        "\n",
        "pl_stats2018 = pl_stats2018[columns_needed] \n",
        "\n",
        "\n",
        "for column in columns_needed:\n",
        "    pl_stats2018 = pl_stats2018[pl_stats2018[column].isnull()==False]"
      ]
    },
    {
      "cell_type": "code",
      "source": [
        "pl_stats2018[list(pl_stats2018.columns)].info()"
      ],
      "metadata": {
        "id": "d5KQfTlCelE1"
      },
      "execution_count": null,
      "outputs": []
    },
    {
      "cell_type": "markdown",
      "metadata": {
        "id": "zuUI6gc7bgWi"
      },
      "source": [
        "# **Renaming the Columns (for easier understanding)**"
      ]
    },
    {
      "cell_type": "code",
      "execution_count": null,
      "metadata": {
        "id": "nfhN4W6GZw-m"
      },
      "outputs": [],
      "source": [
        "pl_stats2018 = pl_stats2018.rename(columns={'total_scoring_att': 'total_shots', 'ontarget_scoring_att': 'shots_on_target', 'att_hd_goal': 'header_goals', \n",
        "                                            'hit_woodwork': 'hit_goalpost', 'att_ibox_goal': 'insidebox_goals', \n",
        "                                            'att_obox_goal': 'outsidebox_goals', 'outfielder_block': 'blocks'})"
      ]
    },
    {
      "cell_type": "code",
      "execution_count": null,
      "metadata": {
        "id": "Cl4OHlpbbAvn"
      },
      "outputs": [],
      "source": [
        "pl_stats2018[list(pl_stats2018.columns)].info()"
      ]
    },
    {
      "cell_type": "markdown",
      "source": [
        "We narrowed the 40 factors to 21 factors that had a strong correlation to Win Percentage"
      ],
      "metadata": {
        "id": "G48U6InONQaq"
      }
    },
    {
      "cell_type": "markdown",
      "source": [
        "# **Merging of Datasets**"
      ],
      "metadata": {
        "id": "1S6h4XRzHsO6"
      }
    },
    {
      "cell_type": "code",
      "source": [
        "pl_stats2018.reset_index(drop=True, inplace=True)\n",
        "pl_stats2018"
      ],
      "metadata": {
        "id": "ABUGxJQJl3OU"
      },
      "execution_count": null,
      "outputs": []
    },
    {
      "cell_type": "code",
      "source": [
        "merged_left = pd.merge(left=pl_results2018, right=pl_stats2018, how='left', left_on='home_team', right_on='team')\n",
        "pl_combined = pd.merge(left=merged_left, right=pl_stats2018, how='left', left_on='away_team', right_on='team')\n",
        "pl_combined"
      ],
      "metadata": {
        "id": "eLnUHdUXtjXM"
      },
      "execution_count": null,
      "outputs": []
    },
    {
      "cell_type": "code",
      "source": [
        "pl_combined[list(pl_combined.columns)].info()"
      ],
      "metadata": {
        "id": "AQDE07bZIKpK"
      },
      "execution_count": null,
      "outputs": []
    },
    {
      "cell_type": "code",
      "source": [
        "pl_combined.drop('season_x', axis=1, inplace=True)\n",
        "pl_combined.drop('season_y', axis=1, inplace=True)\n",
        "pl_combined.drop('season', axis=1, inplace=True)\n",
        "pl_combined.drop('team_x', axis=1, inplace=True)\n",
        "pl_combined.drop('team_y', axis=1, inplace=True)\n",
        "pl_combined.drop('home_goals', axis=1, inplace=True)\n",
        "pl_combined.drop('away_goals', axis=1, inplace=True)"
      ],
      "metadata": {
        "id": "sNf9UEmFJHjY"
      },
      "execution_count": null,
      "outputs": []
    },
    {
      "cell_type": "code",
      "source": [
        "pl_combined[list(pl_combined.columns)].info()"
      ],
      "metadata": {
        "id": "BtGELRZdJWTf"
      },
      "execution_count": null,
      "outputs": []
    },
    {
      "cell_type": "code",
      "source": [
        "column_indices = [3,4,5,6,7,8,9,10,11,12,13,14,15,16,17,18,19,20,21,22,23,24,25]\n",
        "new_names = ['home_wins','home_losses','home_goals','home_total_shots','home_shots_on_target','home_header_goals','home_hit_goalpost','home_insidebox_goals',\n",
        "             'home_outsidebox_goals','home_clean_sheet','home_goals_conceded','home_saves','home_blocks','home_total_clearance','home_head_clearance','home_total_pass',\n",
        "             'home_total_through_ball','home_total_long_balls','home_backward_pass','home_corner_taken','home_touches','home_big_chance_missed','home_win_pct']\n",
        "old_names = pl_combined.columns[column_indices]\n",
        "pl_combined.rename(columns=dict(zip(old_names, new_names)), inplace=True)"
      ],
      "metadata": {
        "id": "3oU9n5YnKR-F"
      },
      "execution_count": null,
      "outputs": []
    },
    {
      "cell_type": "code",
      "source": [
        "column_indices = [26,27,28,29,30,31,32,33,34,35,36,37,38,39,40,41,42,43,44,45,46,47,48]\n",
        "new_names = ['away_wins','away_losses','away_goals','away_total_shots','away_shots_on_target','away_header_goals','away_hit_goalpost','away_insidebox_goals',\n",
        "             'away_outsidebox_goals','away_clean_sheet','away_goals_conceded','away_saves','away_blocks','away_total_clearance','away_head_clearance','away_total_pass',\n",
        "             'away_total_through_ball','away_total_long_balls','away_backward_pass','away_corner_taken','away_touches','away_big_chance_missed','away_win_pct']\n",
        "old_names = pl_combined.columns[column_indices]\n",
        "pl_combined.rename(columns=dict(zip(old_names, new_names)), inplace=True)"
      ],
      "metadata": {
        "id": "KselLCiXTd3t"
      },
      "execution_count": null,
      "outputs": []
    },
    {
      "cell_type": "code",
      "source": [
        "pl_combined[list(pl_combined.columns)].info()"
      ],
      "metadata": {
        "id": "9ccYdx7lKawG"
      },
      "execution_count": null,
      "outputs": []
    },
    {
      "cell_type": "markdown",
      "metadata": {
        "id": "oAAVec8dYQP4"
      },
      "source": [
        "# **Possible Outcomes of Winner**"
      ]
    },
    {
      "cell_type": "code",
      "execution_count": null,
      "metadata": {
        "id": "8-aL_EL7XyKD"
      },
      "outputs": [],
      "source": [
        "cleandataset = pd.DataFrame(pl_results2018)\n",
        "print((cleandataset[\"result\"].unique()))"
      ]
    },
    {
      "cell_type": "markdown",
      "metadata": {
        "id": "15l18NOwZEDW"
      },
      "source": [
        "# **Creating new predictor variables**\n",
        "The current columns are specific to each side, Home & Away. But for our prediction of outcome, it will be more useful to have variables that reflected the differences between the teams so we created additional columns for the comparisons using the columns provided to us by the dataset."
      ]
    },
    {
      "cell_type": "code",
      "execution_count": null,
      "metadata": {
        "id": "ZtWxE7WTZFub"
      },
      "outputs": [],
      "source": [
        "pl_combined[\"goals_diff\"] = pl_combined['home_goals']-pl_combined['away_goals']\n",
        "pl_combined[\"total_shots_diff\"] = pl_combined['home_total_shots']-pl_combined['away_total_shots']\n",
        "pl_combined[\"shots_on_target_dif\"] = pl_combined['home_shots_on_target']-pl_combined['away_shots_on_target']\n",
        "pl_combined[\"header_goals_dif\"] = pl_combined['home_header_goals']-pl_combined['away_header_goals']\n",
        "pl_combined[\"hit_goalpost_dif\"] = pl_combined['home_hit_goalpost']-pl_combined['away_hit_goalpost']\n",
        "pl_combined[\"insidebox_goals_dif\"] = pl_combined['home_insidebox_goals']-pl_combined['away_insidebox_goals']\n",
        "pl_combined[\"outsidebox_goals_dif\"] = pl_combined['home_outsidebox_goals']-pl_combined['away_outsidebox_goals']\n",
        "pl_combined[\"clean_sheet_dif\"] = pl_combined['home_clean_sheet']-pl_combined['away_clean_sheet']\n",
        "pl_combined[\"goals_conceded_dif\"] = pl_combined['home_goals_conceded']-pl_combined['away_goals_conceded']\n",
        "pl_combined[\"saves_dif\"] = pl_combined['home_saves']-pl_combined['away_saves']\n",
        "pl_combined[\"blocks_dif\"] = pl_combined['home_blocks']-pl_combined['away_blocks']\n",
        "pl_combined[\"total_clearance_dif\"] = pl_combined['home_total_clearance']-pl_combined['away_total_clearance']\n",
        "pl_combined[\"head_clearance_dif\"] = pl_combined['home_head_clearance']-pl_combined['away_head_clearance']\n",
        "pl_combined[\"total_pass_dif\"] = pl_combined['home_total_pass']-pl_combined['away_total_pass']\n",
        "pl_combined[\"total_through_ball_dif\"] = pl_combined['home_total_through_ball']-pl_combined['away_total_through_ball']\n",
        "pl_combined[\"total_long_balls_dif\"] = pl_combined['home_total_long_balls']-pl_combined['away_total_long_balls']\n",
        "pl_combined[\"backward_pass_dif\"] = pl_combined['home_backward_pass']-pl_combined['away_backward_pass']\n",
        "pl_combined[\"corner_taken_dif\"] = pl_combined['home_corner_taken']-pl_combined['away_corner_taken']\n",
        "pl_combined[\"touches_dif\"] = pl_combined['home_touches']-pl_combined['away_touches']\n",
        "pl_combined[\"big_chance_missed_dif\"] = pl_combined['home_big_chance_missed']-pl_combined['away_big_chance_missed']\n",
        "pl_combined[\"win_pct_diff\"] = pl_combined[\"home_win_pct\"]-pl_combined[\"away_win_pct\"]\n",
        "pl_combined.head(20)"
      ]
    },
    {
      "cell_type": "code",
      "source": [
        "pl_combined.info()"
      ],
      "metadata": {
        "id": "rp1D1yHMl1OO"
      },
      "execution_count": null,
      "outputs": []
    },
    {
      "cell_type": "markdown",
      "source": [
        "# **Generating Train - Test Split**\n",
        "\n",
        "We split our dataset into 75% train data and 25% test data,as well as fixing the randomness of the split to ensure consistency in the results obtained"
      ],
      "metadata": {
        "id": "XQjWf0COmKGU"
      }
    },
    {
      "cell_type": "code",
      "source": [
        "# Extract Response and Predictors\n",
        "y = pl_combined[\"result\"]\n",
        "X = pl_combined[['goals_diff','total_shots_diff','header_goals_dif','hit_goalpost_dif','insidebox_goals_dif',\n",
        "                 'outsidebox_goals_dif','clean_sheet_dif','goals_conceded_dif','saves_dif','blocks_dif','total_clearance_dif','head_clearance_dif',\n",
        "                 'total_pass_dif','total_through_ball_dif','total_long_balls_dif','backward_pass_dif','corner_taken_dif','touches_dif',\n",
        "                 'big_chance_missed_dif','win_pct_diff']]\n",
        "\n",
        "    \n",
        "# Split the Dataset into Train and Test\n",
        "X_train, X_test, y_train, y_test = train_test_split(X, y, test_size = 0.25,random_state = 2)\n",
        "\n",
        "# Check the sample sizes\n",
        "print(\"Train Set :\", y_train.shape, X_train.shape)\n",
        "print(\"Test Set  :\", y_test.shape, X_test.shape)"
      ],
      "metadata": {
        "id": "yK3OVMgBmWoX"
      },
      "execution_count": null,
      "outputs": []
    },
    {
      "cell_type": "code",
      "source": [
        "X_test"
      ],
      "metadata": {
        "id": "PNqFo_KHJatr"
      },
      "execution_count": null,
      "outputs": []
    },
    {
      "cell_type": "code",
      "source": [
        "y_train.value_counts()"
      ],
      "metadata": {
        "id": "hqrnnp6cJg1p"
      },
      "execution_count": null,
      "outputs": []
    },
    {
      "cell_type": "markdown",
      "metadata": {
        "id": "k4m75WDkw9Zq"
      },
      "source": [
        "# **Training Our Machine Learning Model**"
      ]
    },
    {
      "cell_type": "markdown",
      "metadata": {
        "id": "AJXy2Soj1OOD"
      },
      "source": [
        "**Binary Classification Model**\n",
        "\n",
        "We used binary classification to help us get a predicted outcome since our outcome is a categorical value."
      ]
    },
    {
      "cell_type": "code",
      "execution_count": null,
      "metadata": {
        "id": "88II2LUA1Uwy"
      },
      "outputs": [],
      "source": [
        "dectree = DecisionTreeClassifier(max_depth = 3)  # create the decision tree object\n",
        "dectree.fit(X_train, y_train)                    # train the decision tree model"
      ]
    },
    {
      "cell_type": "code",
      "execution_count": null,
      "metadata": {
        "id": "VC458GOO1YUO"
      },
      "outputs": [],
      "source": [
        "f = mplt.figure(figsize=(60,20))\n",
        "plot_tree(dectree, filled=True, rounded=True, \n",
        "          feature_names=X_train.columns, \n",
        "          class_names=[\"H\",\"A\",\"D\"])"
      ]
    },
    {
      "cell_type": "code",
      "execution_count": null,
      "metadata": {
        "id": "UU0s9vHs7N8C"
      },
      "outputs": [],
      "source": [
        "y_train_pred = dectree.predict(X_train)\n",
        "y_test_pred = dectree.predict(X_test)\n",
        "\n",
        "# Check the Goodness of Fit (on Train Data)\n",
        "print(\"Goodness of Fit of Model \\tTrain Dataset\")\n",
        "print(\"Classification Accuracy \\t:\", dectree.score(X_train, y_train))\n",
        "print()\n",
        "# Plot the Confusion Matrix for Train and Test\n",
        "train = confusion_matrix(y_train,y_train_pred)\n",
        "\n",
        "TP = train[0][0]\n",
        "FP = train[0][1] + train[0][2]\n",
        "precision_away = TP / (FP + TP)\n",
        "\n",
        "print(\"Precision Rate of Away Win \\tTrain Dataset\")\n",
        "print(f\"Precision:\\t\\t\\t{precision_away:.2%}\") \n",
        "print()\n",
        "\n",
        "TP = train[1][1]\n",
        "FP = train[1][0] + train[1][2]\n",
        "precision_draw = TP / (FP + TP)\n",
        "\n",
        "print(\"Precision Rate of Draw \\t\\tTrain Dataset\")\n",
        "print(f\"Precision:\\t\\t\\t{precision_draw:.2%}\") \n",
        "print()\n",
        "\n",
        "TP = train[2][2]\n",
        "FP = train[2][1] + train[2][0]\n",
        "precision_home = TP / (FP + TP)\n",
        "\n",
        "print(\"Precision Rate of Home Win \\tTrain Dataset\")\n",
        "print(f\"Precision:\\t\\t\\t{precision_home:.2%}\") \n",
        "print()\n",
        "\n",
        "# Check the Goodness of Fit (on Test Data)\n",
        "print(\"Goodness of Fit of Model \\tTest Dataset\")\n",
        "print(\"Classification Accuracy \\t:\", dectree.score(X_test, y_test))\n",
        "print()\n",
        "test = confusion_matrix(y_test, y_test_pred)\n",
        "\n",
        "TP = test[0][0]\n",
        "FP = test[0][1] + test[0][2]\n",
        "precision_away = TP / (FP + TP)\n",
        "\n",
        "print(\"Precision Rate of Away Win \\tTest Dataset\")\n",
        "print(f\"Precision:\\t\\t\\t{precision_away:.2%}\") \n",
        "print()\n",
        "\n",
        "TP = test[1][1]\n",
        "FP = test[1][0] + test[1][2]\n",
        "precision_draw = TP / (FP + TP)\n",
        "\n",
        "print(\"Precision Rate of Draw \\t\\tTest Dataset\")\n",
        "print(f\"Precision:\\t\\t\\t{precision_draw:.2%}\") \n",
        "print()\n",
        "\n",
        "TP = test[2][2]\n",
        "FP = test[2][1] + test[2][0]\n",
        "precision_home = TP / (FP + TP)\n",
        "\n",
        "print(\"Precision Rate of Home Win \\tTest Dataset\")\n",
        "print(f\"Precision:\\t\\t\\t{precision_home:.2%}\") \n",
        "print()\n",
        "\n",
        "# Tried Classification Report, but its is unreliable when dealing with 3x3 matrix\n",
        "#class_names=[\"A\",\"D\",\"H\"]\n",
        "#classifier_tree = DecisionTreeClassifier()\n",
        "#y_predict = classifier_tree.fit(X_train, y_train).predict(X_test)\n",
        "#print(classification_report(y_test, y_predict, target_names=class_names))\n",
        "#print(confusion_matrix(y_test, y_predict))\n",
        "\n",
        "# Plot the Confusion Matrix for Train and Test\n",
        "f, axes = mplt.subplots(1, 2, figsize=(12, 4))\n",
        "sb.heatmap(confusion_matrix(y_train, y_train_pred),\n",
        "           annot = True, fmt=\".0f\", annot_kws={\"size\": 18}, ax = axes[0])\n",
        "sb.heatmap(confusion_matrix(y_test, y_test_pred), \n",
        "           annot = True, fmt=\".0f\", annot_kws={\"size\": 18}, ax = axes[1])"
      ]
    },
    {
      "cell_type": "code",
      "source": [
        "list(y_test)"
      ],
      "metadata": {
        "id": "quznrnUqY0Ow"
      },
      "execution_count": null,
      "outputs": []
    },
    {
      "cell_type": "markdown",
      "source": [
        "# **Beyond the Course: Logistic Regression**\n",
        "Logistic regression estimates the probability of an event occurring, based on a given dataset of independent variables."
      ],
      "metadata": {
        "id": "EbiM4aTYGUUn"
      }
    },
    {
      "cell_type": "code",
      "source": [
        "logmodel = LogisticRegression(max_iter = 60000)\n",
        "lm = logmodel.fit(X_train,y_train)\n",
        "predictions = lm.predict(X_test)\n",
        "print(\"Accuracy = \",lm.score(X_test,y_test))\n",
        "\n",
        "# Tried Classification Report, but its is unreliable when dealing with 3x3 matrix\n",
        "#print(classification_report(y_test,predictions))\n",
        "#test = confusion_matrix(y_test,predictions)\n",
        "\n",
        "TP = test[0][0]\n",
        "FP = test[0][1] + test[0][2]\n",
        "precision_away = TP / (FP + TP)\n",
        "\n",
        "print(\"Precision Rate of Away Win \\tTest Dataset\")\n",
        "print(f\"Precision:\\t\\t\\t{precision_away:.2%}\") \n",
        "print()\n",
        "\n",
        "TP = test[1][1]\n",
        "FP = test[1][0] + test[1][2]\n",
        "precision_draw = TP / (FP + TP)\n",
        "\n",
        "print(\"Precision Rate of Draw \\t\\tTest Dataset\")\n",
        "print(f\"Precision:\\t\\t\\t{precision_draw:.2%}\") \n",
        "print()\n",
        "\n",
        "TP = test[2][2]\n",
        "FP = test[2][1] + test[2][0]\n",
        "precision_home = TP / (FP + TP)\n",
        "\n",
        "print(\"Precision Rate of Home Win \\tTest Dataset\")\n",
        "print(f\"Precision:\\t\\t\\t{precision_home:.2%}\") \n",
        "\n",
        "print()\n",
        "hm = sb.heatmap(data = test,annot = True)\n",
        "  \n",
        "# displaying the plotted heatmap\n",
        "plt.show()"
      ],
      "metadata": {
        "id": "6W4SM9ngGl7Q"
      },
      "execution_count": null,
      "outputs": []
    },
    {
      "cell_type": "markdown",
      "source": [
        "# **Probability**\n",
        "Predicting the Probability of Away Win, Draw , Home Win in each instance"
      ],
      "metadata": {
        "id": "9ZX4y9G6qYGl"
      }
    },
    {
      "cell_type": "code",
      "source": [
        "probability = lm.predict_proba(X_test).round(3)\n",
        "probability"
      ],
      "metadata": {
        "id": "6pb6ZNuDpcwX"
      },
      "execution_count": null,
      "outputs": []
    },
    {
      "cell_type": "markdown",
      "source": [
        "# **DataFrame of all the prediction information from Logistic Regression Model**"
      ],
      "metadata": {
        "id": "O68ak3mIq_DV"
      }
    },
    {
      "cell_type": "code",
      "source": [
        "y_prob_logistic = lm.predict_proba(X_test).round(3)\n",
        "y_prob_logistic = pd.DataFrame(y_prob_logistic[:,0], columns = [\"Probability_Of_Away_Win\"], index = X_test.index)\n",
        "\n",
        "Winner_df_logistic = pd.DataFrame(y_test,columns = [\"Result\"],index = X_test.index)\n",
        "Winner_df_logistic = y_test\n",
        "Predicted_Winner_logistic_df = pd.DataFrame(predictions,columns = [\"Predicted_Result\"],index = X_test.index)\n",
        "compare_prob_logistic = pd.concat([Winner_df_logistic,Predicted_Winner_logistic_df, y_prob_logistic], axis = 1)\n",
        "\n",
        "y_prob_logistic = lm.predict_proba(X_test).round(3)\n",
        "compare_prob_logistic[\"Probability_Of_Draw\"] = pd.DataFrame(y_prob_logistic[:,1], columns = [\"Probability_Of_Draw\"], index = X_test.index)\n",
        "\n",
        "y_prob_logistic = lm.predict_proba(X_test).round(3)\n",
        "compare_prob_logistic[\"Probability_Of_Home_Win\"] = pd.DataFrame(y_prob_logistic[:,2], columns = [\"Probability_Of_Home_Win\"], index = X_test.index)\n",
        "\n",
        "#print(compare_prob_logistic.to_markdown())\n",
        "compare_prob_logistic"
      ],
      "metadata": {
        "id": "3O7viMivrGC9"
      },
      "execution_count": null,
      "outputs": []
    },
    {
      "cell_type": "code",
      "source": [
        "pl_combined"
      ],
      "metadata": {
        "id": "NzDwUrObmZ3v"
      },
      "execution_count": null,
      "outputs": []
    },
    {
      "cell_type": "code",
      "source": [
        "\n",
        "Predicted_Winner_logistic_df = pd.DataFrame(predictions,columns = [\"Predicted_Result\"],index = X_test.index)\n",
        "\n",
        "pl_prediction = pl_combined.join(Predicted_Winner_logistic_df)\n",
        "\n",
        "pl_prediction "
      ],
      "metadata": {
        "id": "rD9jjA1lvNg9"
      },
      "execution_count": null,
      "outputs": []
    },
    {
      "cell_type": "code",
      "source": [
        "# Function to extract result\n",
        "def f(x,y): return pl_combined.loc[(pl_combined['home_team'] == x) & (pl_combined['away_team'] == y), ['result']]\n",
        "\n",
        "# Get the teams from the user\n",
        "x = input(\"Enter Home Team: \") \n",
        "y = input(\"\\nEnter Away Team: \")\n",
        "\n",
        "print()\n",
        "\n",
        "# Print the result\n",
        "print(f(x,y))\n",
        "\n",
        "\n"
      ],
      "metadata": {
        "id": "boXswWUSit4J"
      },
      "execution_count": null,
      "outputs": []
    }
  ],
  "metadata": {
    "colab": {
      "provenance": [],
      "collapsed_sections": []
    },
    "kernelspec": {
      "display_name": "Python 3",
      "name": "python3"
    },
    "language_info": {
      "name": "python"
    }
  },
  "nbformat": 4,
  "nbformat_minor": 0
}